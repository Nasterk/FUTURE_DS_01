{
 "cells": [
  {
   "cell_type": "code",
   "execution_count": 1,
   "id": "98a3812c",
   "metadata": {},
   "outputs": [
    {
     "name": "stdout",
     "output_type": "stream",
     "text": [
      "Processing complete! Files saved:\n",
      "Processed data: 732 rows\n",
      "Top hashtag: #Compassionate #TearsOfEmpathy (3 mentions)\n"
     ]
    }
   ],
   "source": [
    "import pandas as pd\n",
    "from collections import Counter\n",
    "import re\n",
    "from textblob import TextBlob\n",
    "\n",
    "##Path to the \"sentimentdataset.csv\" file\n",
    "df = pd.read_csv('Dataset/sentimentdataset.csv')\n",
    "\n",
    "df = df[['Timestamp', 'Text', 'Retweets', 'Likes', 'Hashtags', 'Sentiment']]\n",
    "df = df.dropna()\n",
    "\n",
    "df = df.rename(columns={\n",
    "    'Timestamp': 'date',\n",
    "    'Text': 'text',\n",
    "    'Sentiment': 'Psentiment'\n",
    "})\n",
    "\n",
    "def cleanHashtags(hashtag_str):\n",
    "    if isinstance(hashtag_str, str):\n",
    "        cleaned = re.sub(r'[\\[\\]\\'\\\"]', '', hashtag_str)\n",
    "        tags = []\n",
    "        for rawTag in cleaned.split(','):\n",
    "            trimmedTag = rawTag.strip()\n",
    "            if trimmedTag:\n",
    "                tags.append(trimmedTag)\n",
    "        return tags\n",
    "    return []\n",
    "\n",
    "df['hashtags'] = df['Hashtags'].apply(cleanHashtags)\n",
    "\n",
    "allHashtags = []\n",
    "\n",
    "for sublist in df['hashtags']:\n",
    "    for tag in sublist:\n",
    "        allHashtags.append(tag)\n",
    "\n",
    "topHashtags = Counter(allHashtags).most_common(10)\n",
    "\n",
    "def analyzeSentiment(text):\n",
    "    analysis = TextBlob(str(text))\n",
    "    if analysis.sentiment.polarity > 0.05:\n",
    "        return 'Positive'\n",
    "    elif analysis.sentiment.polarity < -0.05:\n",
    "        return 'Negative'\n",
    "    else:\n",
    "        return 'Neutral'\n",
    "\n",
    "df['calculatedSentiment'] = df['text'].apply(analyzeSentiment)\n",
    "\n",
    "def getSentimentScore(text):\n",
    "    text = str(text)\n",
    "    blob = TextBlob(text)\n",
    "    return blob.sentiment.polarity\n",
    "\n",
    "df['sentimentScore'] = df['text'].apply(getSentimentScore)\n",
    "\n",
    "df['hashtagSTR'] = df['hashtags'].apply(lambda x: ', '.join(x))\n",
    "\n",
    "##Path to the \"Output\" folder\n",
    "df.to_csv('Dataset/Output/processedData.csv', index=False)\n",
    "\n",
    "topHashtagsDf = pd.DataFrame(topHashtags, columns=['Hashtag', 'Count'])\n",
    "##Path to the \"Output\" folder\n",
    "topHashtagsDf.to_csv('Dataset/Output/topHashtags.csv', index=False)\n",
    "\n",
    "print(\"Processing complete! Files saved:\")\n",
    "print(f\"Processed data: {len(df)} rows\")\n",
    "print(f\"Top hashtag: {topHashtags[0][0]} ({topHashtags[0][1]} mentions)\")"
   ]
  },
  {
   "cell_type": "code",
   "execution_count": 2,
   "id": "01601151",
   "metadata": {},
   "outputs": [
    {
     "name": "stdout",
     "output_type": "stream",
     "text": [
      "Hashtag sentiment breakdown saved as 'hashtagSentimentSummary.csv'\n"
     ]
    }
   ],
   "source": [
    "import pandas as pd\n",
    "\n",
    "##Path to the \"Output\" folder\n",
    "df = pd.read_csv('Dataset/Output/processedData.csv')\n",
    "\n",
    "df['hashtags'] = df['hashtags'].apply(eval)\n",
    "dfExploded = df.explode('hashtags')\n",
    "\n",
    "sentimentCounts = dfExploded.groupby(['hashtags', 'calculatedSentiment']).size().unstack(fill_value=0)\n",
    "\n",
    "sentimentCounts.columns = ['Negative', 'Neutral', 'Positive'] if 'Negative' in sentimentCounts.columns else sentimentCounts.columns\n",
    "\n",
    "sentimentPercent = sentimentCounts.div(sentimentCounts.sum(axis=1), axis=0) * 100\n",
    "sentimentPercent = sentimentPercent.fillna(0).round(1)\n",
    "\n",
    "sentimentPercent = sentimentPercent.reset_index()\n",
    "sentimentPercent.columns.name = None\n",
    "sentimentPercent = sentimentPercent.rename(columns={\n",
    "    'hashtags': 'Hashtag',\n",
    "    'Positive': 'Positive%',\n",
    "    'Neutral': 'Neutral%',\n",
    "    'Negative': 'Negative%'\n",
    "})\n",
    "\n",
    "##Path to the \"Output\" folder\n",
    "sentimentPercent.to_csv('Dataset/Output/hashtagSentimentSummary.csv', index=False)\n",
    "\n",
    "print(\"Hashtag sentiment breakdown saved as 'hashtagSentimentSummary.csv'\")"
   ]
  }
 ],
 "metadata": {
  "kernelspec": {
   "display_name": "Python 3",
   "language": "python",
   "name": "python3"
  },
  "language_info": {
   "codemirror_mode": {
    "name": "ipython",
    "version": 3
   },
   "file_extension": ".py",
   "mimetype": "text/x-python",
   "name": "python",
   "nbconvert_exporter": "python",
   "pygments_lexer": "ipython3",
   "version": "3.13.0"
  }
 },
 "nbformat": 4,
 "nbformat_minor": 5
}
